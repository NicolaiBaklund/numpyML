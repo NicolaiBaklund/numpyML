{
 "cells": [
  {
   "cell_type": "code",
   "execution_count": null,
   "id": "77d4dcb0",
   "metadata": {},
   "outputs": [],
   "source": [
    "from torch.utils.data import Dataset, DataLoader, random_split\n",
    "import torch\n",
    "import pandas as pd\n",
    "from nn import model, activations, optimizers, losses\n",
    "from nn.layers import Dense\n",
    "from nn.activations import Sigmoid, ReLU\n",
    "class CSVDataset(Dataset):\n",
    "    def __init__(self, filepath):\n",
    "        df = pd.read_csv(filepath)\n",
    "        self.X = df[[\"x0\", \"x1\"]].values.astype(\"float32\")\n",
    "        self.y = df[\"y\"].values.astype(\"int\")\n",
    "\n",
    "    def __len__(self):\n",
    "        return len(self.y)\n",
    "\n",
    "    def __getitem__(self, idx):\n",
    "        x = torch.tensor(self.X[idx])\n",
    "        y = torch.tensor(self.y[idx])\n",
    "        return x, y\n",
    "\n",
    "\n",
    "dataset = CSVDataset(\"nn_data.csv\")\n",
    "\n",
    "random_generator = torch.Generator().manual_seed(42)\n",
    "\n",
    "train_data, test_data = random_split(dataset, [int(0.8*len(dataset)), int(0.2*len(dataset))], generator=random_generator)\n",
    "\n",
    "train_loader = DataLoader(train_data, batch_size=32, shuffle=True, generator=random_generator)\n",
    "test_loader = DataLoader(test_data, batch_size=32, shuffle=False)\n"
   ]
  },
  {
   "cell_type": "code",
   "execution_count": null,
   "id": "9bd00740",
   "metadata": {},
   "outputs": [],
   "source": [
    "\"\"\"model = torch.nn.Sequential(\n",
    "    torch.nn.Linear(2, 25),\n",
    "    torch.nn.ReLU(),\n",
    "    torch.nn.Linear(25, 10),\n",
    "    torch.nn.ReLU(),\n",
    "    torch.nn.Linear(10, 1),\n",
    "    torch.nn.Sigmoid()\n",
    ")\"\"\""
   ]
  },
  {
   "cell_type": "code",
   "execution_count": null,
   "id": "fe92c1cf",
   "metadata": {},
   "outputs": [],
   "source": [
    "model = model.Sequential([\n",
    "    Dense(2, 25),\n",
    "    ReLU(),\n",
    "    Dense(25, 10),\n",
    "    ReLU(),\n",
    "    Dense(10, 1)\n",
    "])\n",
    "\n",
    "loss_fn = losses.BinaryCrossEntropyWithLogits()"
   ]
  }
 ],
 "metadata": {
  "kernelspec": {
   "display_name": ".venv",
   "language": "python",
   "name": "python3"
  },
  "language_info": {
   "codemirror_mode": {
    "name": "ipython",
    "version": 3
   },
   "file_extension": ".py",
   "mimetype": "text/x-python",
   "name": "python",
   "nbconvert_exporter": "python",
   "pygments_lexer": "ipython3",
   "version": "3.14.0"
  }
 },
 "nbformat": 4,
 "nbformat_minor": 5
}
